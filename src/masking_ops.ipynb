{
 "cells": [
  {
   "cell_type": "markdown",
   "id": "13b3730d",
   "metadata": {},
   "source": [
    "dataset/nsddata/ppdata/subj01/func1pt8mm/mean.nii.gz brain volume and map/transform it into the same space as sub-01_ses-nsd01_task-nsdcore_run-01_bold.nii.gz\n",
    "\n",
    "then use that transformation matrix and apply it to the func1pt8mm nsdgeneral mask\n",
    "\n",
    "this should give you the mask you need"
   ]
  },
  {
   "cell_type": "code",
   "execution_count": 8,
   "id": "4e8f2439",
   "metadata": {},
   "outputs": [],
   "source": [
    "path = \"/scratch/gpfs/rk1593/rt_mindEye/masking_operation\"\n",
    "!module load fsl/6.0.6.2 \n",
    "import os\n",
    "import nibabel as nib\n",
    "import numpy as np"
   ]
  },
  {
   "cell_type": "markdown",
   "id": "2129713e",
   "metadata": {},
   "source": [
    "flirt is the main program that performs affine registration. The main options are: an input (-in) and a reference (-ref) volume; the calculated affine transformation that registers the input to the reference which is saved as a 4x4 affine matrix (-omat); and output volume (-out) where the transform is applied to the input volume to align it with the reference volume. In addition, FLIRT can also be used to apply a saved transformation to a volume (-applyxfm, -init and -out) or to apply a transform that aligns the NIFTI mm coordinates (-applyxfm, -usesqform and -out; but not -init). For these usages the reference volume must still be specified as this sets the voxel and image dimensions of the resulting volume.\n",
    "\n",
    "-out outvol -init invol2refvol.mat -applyxfm"
   ]
  },
  {
   "cell_type": "markdown",
   "id": "574db706",
   "metadata": {},
   "source": [
    "# Day 1 Mask"
   ]
  },
  {
   "cell_type": "code",
   "execution_count": 3,
   "id": "eddb873a",
   "metadata": {},
   "outputs": [
    {
     "name": "stderr",
     "output_type": "stream",
     "text": [
      "Warning: An input intended to be a single 3D volume has multiple timepoints. Input will be truncated to first volume, but this functionality is deprecated and will be removed in a future release.\n",
      "Warning: An input intended to be a single 3D volume has multiple timepoints. Input will be truncated to first volume, but this functionality is deprecated and will be removed in a future release.\n",
      "Warning: An input intended to be a single 3D volume has multiple timepoints. Input will be truncated to first volume, but this functionality is deprecated and will be removed in a future release.\n"
     ]
    },
    {
     "data": {
      "text/plain": [
       "0"
      ]
     },
     "execution_count": 3,
     "metadata": {},
     "output_type": "execute_result"
    }
   ],
   "source": [
    "# map mean.nii.gz to sub-01 bold image and make affine\n",
    "os.system(f\"flirt -in /scratch/gpfs/rk1593/rt_mindEye/masking_operation/mean.nii.gz \" + \n",
    "          \"-ref /scratch/gpfs/rk1593/rt_mindEye/masking_operation/sub-01_ses-nsd01_task-nsdcore_run-01_bold.nii.gz \" +\n",
    "          \"-omat /scratch/gpfs/rk1593/rt_mindEye/masking_operation/affine_day1_subj1\")\n",
    "# use affine for transforming the mask to the bold image space\n",
    "os.system(f\"flirt -in /scratch/gpfs/rk1593/rt_mindEye/masking_operation/nsdgeneral.nii.gz \" + \n",
    "          \"-ref /scratch/gpfs/rk1593/rt_mindEye/masking_operation/sub-01_ses-nsd01_task-nsdcore_run-01_bold.nii.gz \"  +\n",
    "          \"-init /scratch/gpfs/rk1593/rt_mindEye/masking_operation/affine_day1_subj1 \" + \n",
    "          \"-out /scratch/gpfs/rk1593/rt_mindEye/masking_operation/nsdgeneral_transformed_day1_subj1.nii.gz -applyxfm\")\n"
   ]
  },
  {
   "cell_type": "markdown",
   "id": "e0bede56",
   "metadata": {},
   "source": [
    "FLIRT can also be used to apply a saved transformation to a volume (-applyxfm, -init and -out)"
   ]
  },
  {
   "cell_type": "code",
   "execution_count": 7,
   "id": "09b52b9a",
   "metadata": {},
   "outputs": [
    {
     "name": "stdout",
     "output_type": "stream",
     "text": [
      "[[ True  True  True  True]\n",
      " [ True  True  True  True]\n",
      " [ True  True  True  True]\n",
      " [ True  True  True  True]]\n"
     ]
    }
   ],
   "source": [
    "# make sure affine of bold image and the transformed mask are the same\n",
    "ref = nib.load('/scratch/gpfs/rk1593/rt_mindEye/masking_operation/sub-01_ses-nsd01_task-nsdcore_run-01_bold.nii.gz')\n",
    "mask_nii = nib.load('/scratch/gpfs/rk1593/rt_mindEye/masking_operation/nsdgeneral_transformed_day1_subj1.nii.gz')\n",
    "print(mask_nii.affine == ref.affine)"
   ]
  },
  {
   "cell_type": "code",
   "execution_count": 12,
   "id": "b62ce9b3",
   "metadata": {},
   "outputs": [
    {
     "name": "stdout",
     "output_type": "stream",
     "text": [
      "(array([0., 1.]), array([1193926,   15674]))\n",
      "(array([0., 1.]), array([1194631,   14969]))\n",
      "(array([0., 1.]), array([1195201,   14399]))\n",
      "(array([0., 1.]), array([1195803,   13797]))\n",
      "(array([0., 1.]), array([1196444,   13156]))\n",
      "(array([0., 1.]), array([1197256,   12344]))\n",
      "(array([0., 1.]), array([1198195,   11405]))\n",
      "(array([0., 1.]), array([1199366,   10234]))\n",
      "(array([0., 1.]), array([1201009,    8591]))\n",
      "(array([0., 1.]), array([1204730,    4870]))\n"
     ]
    }
   ],
   "source": [
    "#  get mask of various threshold\n",
    "threshold_list = np.linspace(1e-200,0.999999, 10)\n",
    "for threshold in threshold_list:\n",
    "    mask_nii = nib.load('/scratch/gpfs/rk1593/rt_mindEye/masking_operation/nsdgeneral_transformed_day1_subj1.nii.gz')\n",
    "    mask_np = mask_nii.get_fdata()\n",
    "    mask_np[np.where(mask_np < threshold)] = 0 \n",
    "    mask_np[np.where(mask_np >= threshold)] = 1\n",
    "    print(np.unique(mask_np, return_counts = True))\n",
    "    new_mask = nib.Nifti1Image(mask_np.astype(float), mask_nii.affine)\n",
    "    nib.save(new_mask, f'/scratch/gpfs/rk1593/rt_mindEye/masking_operation/thresholded_masks/day1_subj1/mask_transformed_{threshold:.2f}_day1_subj1.nii.gz')"
   ]
  },
  {
   "cell_type": "code",
   "execution_count": null,
   "id": "a5d5f711",
   "metadata": {},
   "outputs": [],
   "source": []
  },
  {
   "cell_type": "markdown",
   "id": "383ca996",
   "metadata": {},
   "source": [
    "flirt -in newvol -ref refvol -out outvol -init invol2refvol.mat -applyxfm"
   ]
  },
  {
   "cell_type": "code",
   "execution_count": null,
   "id": "bf5cc05f",
   "metadata": {},
   "outputs": [],
   "source": []
  },
  {
   "cell_type": "code",
   "execution_count": null,
   "id": "1b0ba207",
   "metadata": {},
   "outputs": [],
   "source": []
  },
  {
   "cell_type": "code",
   "execution_count": 59,
   "id": "35a1c118",
   "metadata": {},
   "outputs": [
    {
     "name": "stdout",
     "output_type": "stream",
     "text": [
      "[[-1.79999995e+00  1.79999994e-16 -1.91275342e-17  1.07152489e+02]\n",
      " [ 1.79999994e-16  1.78980815e+00 -1.91275328e-01 -6.96683807e+01]\n",
      " [ 0.00000000e+00  1.91275313e-01  1.78980827e+00 -5.89975739e+01]\n",
      " [ 0.00000000e+00  0.00000000e+00  0.00000000e+00  1.00000000e+00]]\n"
     ]
    }
   ],
   "source": []
  },
  {
   "cell_type": "code",
   "execution_count": 21,
   "id": "e32c17e2",
   "metadata": {},
   "outputs": [],
   "source": [
    "import numpy as np\n",
    "threshold_list =  np.linspace(0,1, 100)\n",
    "mask_np[np.where(mask_np < 0.9)] = 0 \n",
    "mask_np[np.where(mask_np >= 0.9)] = 1"
   ]
  },
  {
   "cell_type": "code",
   "execution_count": 24,
   "id": "9a7ced96",
   "metadata": {},
   "outputs": [],
   "source": [
    "np.unique(mask)\n",
    "new_mask = nib.Nifti1Image(mask_np.astype(float), mask_nii.affine)"
   ]
  },
  {
   "cell_type": "code",
   "execution_count": 25,
   "id": "307553e6",
   "metadata": {},
   "outputs": [],
   "source": [
    "nib.save(new_mask, '/scratch/gpfs/rk1593/rt_mindEye/masking_operation/mask_transformed_0.9.nii.gz')"
   ]
  },
  {
   "cell_type": "code",
   "execution_count": 29,
   "id": "d2f5066d",
   "metadata": {},
   "outputs": [
    {
     "data": {
      "text/plain": [
       "8401"
      ]
     },
     "execution_count": 29,
     "metadata": {},
     "output_type": "execute_result"
    }
   ],
   "source": [
    "np.unique(mask_np, return_counts = True)[1][1]"
   ]
  },
  {
   "cell_type": "code",
   "execution_count": 54,
   "id": "639bd1a3",
   "metadata": {},
   "outputs": [
    {
     "name": "stdout",
     "output_type": "stream",
     "text": [
      "(array([0., 1.]), array([1193926,   15674]))\n",
      "(array([0., 1.]), array([1193926,   15674]))\n",
      "(array([0., 1.]), array([1193926,   15674]))\n",
      "(array([0., 1.]), array([1193926,   15674]))\n",
      "(array([0., 1.]), array([1193926,   15674]))\n",
      "(array([0., 1.]), array([1193926,   15674]))\n",
      "(array([0., 1.]), array([1193926,   15674]))\n",
      "(array([0., 1.]), array([1193926,   15674]))\n",
      "(array([0., 1.]), array([1193926,   15674]))\n",
      "(array([0., 1.]), array([1193926,   15674]))\n",
      "(array([0., 1.]), array([1193926,   15674]))\n",
      "(array([0., 1.]), array([1193926,   15674]))\n",
      "(array([0., 1.]), array([1193926,   15674]))\n",
      "(array([0., 1.]), array([1193926,   15674]))\n",
      "(array([0., 1.]), array([1193926,   15674]))\n",
      "(array([0., 1.]), array([1193926,   15674]))\n",
      "(array([0., 1.]), array([1193926,   15674]))\n",
      "(array([0., 1.]), array([1193926,   15674]))\n",
      "(array([0., 1.]), array([1193926,   15674]))\n",
      "(array([0., 1.]), array([1193926,   15674]))\n",
      "(array([0., 1.]), array([1193926,   15674]))\n",
      "(array([0., 1.]), array([1193926,   15674]))\n",
      "(array([0., 1.]), array([1193926,   15674]))\n",
      "(array([0., 1.]), array([1193926,   15674]))\n",
      "(array([0., 1.]), array([1193926,   15674]))\n",
      "(array([0., 1.]), array([1193926,   15674]))\n",
      "(array([0., 1.]), array([1193926,   15674]))\n",
      "(array([0., 1.]), array([1193926,   15674]))\n",
      "(array([0., 1.]), array([1193926,   15674]))\n",
      "(array([0., 1.]), array([1193926,   15674]))\n",
      "(array([0., 1.]), array([1193926,   15674]))\n",
      "(array([0., 1.]), array([1193926,   15674]))\n",
      "(array([0., 1.]), array([1193926,   15674]))\n",
      "(array([0., 1.]), array([1193926,   15674]))\n",
      "(array([0., 1.]), array([1193926,   15674]))\n",
      "(array([0., 1.]), array([1193926,   15674]))\n",
      "(array([0., 1.]), array([1193926,   15674]))\n"
     ]
    },
    {
     "ename": "KeyboardInterrupt",
     "evalue": "",
     "output_type": "error",
     "traceback": [
      "\u001b[0;31m---------------------------------------------------------------------------\u001b[0m",
      "\u001b[0;31mKeyboardInterrupt\u001b[0m                         Traceback (most recent call last)",
      "Cell \u001b[0;32mIn[54], line 8\u001b[0m\n\u001b[1;32m      6\u001b[0m mask_np[np\u001b[38;5;241m.\u001b[39mwhere(mask_np \u001b[38;5;241m>\u001b[39m\u001b[38;5;241m=\u001b[39m threshold)] \u001b[38;5;241m=\u001b[39m \u001b[38;5;241m1\u001b[39m\n\u001b[1;32m      7\u001b[0m \u001b[38;5;28mprint\u001b[39m(np\u001b[38;5;241m.\u001b[39munique(mask_np, return_counts \u001b[38;5;241m=\u001b[39m \u001b[38;5;28;01mTrue\u001b[39;00m))\n\u001b[0;32m----> 8\u001b[0m \u001b[38;5;28;01mif\u001b[39;00m \u001b[43mnp\u001b[49m\u001b[38;5;241;43m.\u001b[39;49m\u001b[43munique\u001b[49m\u001b[43m(\u001b[49m\u001b[43mmask_np\u001b[49m\u001b[43m,\u001b[49m\u001b[43m \u001b[49m\u001b[43mreturn_counts\u001b[49m\u001b[43m \u001b[49m\u001b[38;5;241;43m=\u001b[39;49m\u001b[43m \u001b[49m\u001b[38;5;28;43;01mTrue\u001b[39;49;00m\u001b[43m)\u001b[49m[\u001b[38;5;241m1\u001b[39m][\u001b[38;5;241m1\u001b[39m] \u001b[38;5;241m==\u001b[39m \u001b[38;5;241m15724\u001b[39m:\n\u001b[1;32m      9\u001b[0m     \u001b[38;5;28mprint\u001b[39m(\u001b[38;5;124m\"\u001b[39m\u001b[38;5;124myes!\u001b[39m\u001b[38;5;124m\"\u001b[39m, threshold)\n",
      "File \u001b[0;32m~/.conda/envs/rt_mindEye2/lib/python3.11/site-packages/numpy/lib/arraysetops.py:274\u001b[0m, in \u001b[0;36munique\u001b[0;34m(ar, return_index, return_inverse, return_counts, axis, equal_nan)\u001b[0m\n\u001b[1;32m    272\u001b[0m ar \u001b[38;5;241m=\u001b[39m np\u001b[38;5;241m.\u001b[39masanyarray(ar)\n\u001b[1;32m    273\u001b[0m \u001b[38;5;28;01mif\u001b[39;00m axis \u001b[38;5;129;01mis\u001b[39;00m \u001b[38;5;28;01mNone\u001b[39;00m:\n\u001b[0;32m--> 274\u001b[0m     ret \u001b[38;5;241m=\u001b[39m \u001b[43m_unique1d\u001b[49m\u001b[43m(\u001b[49m\u001b[43mar\u001b[49m\u001b[43m,\u001b[49m\u001b[43m \u001b[49m\u001b[43mreturn_index\u001b[49m\u001b[43m,\u001b[49m\u001b[43m \u001b[49m\u001b[43mreturn_inverse\u001b[49m\u001b[43m,\u001b[49m\u001b[43m \u001b[49m\u001b[43mreturn_counts\u001b[49m\u001b[43m,\u001b[49m\u001b[43m \u001b[49m\n\u001b[1;32m    275\u001b[0m \u001b[43m                    \u001b[49m\u001b[43mequal_nan\u001b[49m\u001b[38;5;241;43m=\u001b[39;49m\u001b[43mequal_nan\u001b[49m\u001b[43m)\u001b[49m\n\u001b[1;32m    276\u001b[0m     \u001b[38;5;28;01mreturn\u001b[39;00m _unpack_tuple(ret)\n\u001b[1;32m    278\u001b[0m \u001b[38;5;66;03m# axis was specified and not None\u001b[39;00m\n",
      "File \u001b[0;32m~/.conda/envs/rt_mindEye2/lib/python3.11/site-packages/numpy/lib/arraysetops.py:328\u001b[0m, in \u001b[0;36m_unique1d\u001b[0;34m(ar, return_index, return_inverse, return_counts, equal_nan)\u001b[0m\n\u001b[1;32m    323\u001b[0m \u001b[38;5;28;01mdef\u001b[39;00m \u001b[38;5;21m_unique1d\u001b[39m(ar, return_index\u001b[38;5;241m=\u001b[39m\u001b[38;5;28;01mFalse\u001b[39;00m, return_inverse\u001b[38;5;241m=\u001b[39m\u001b[38;5;28;01mFalse\u001b[39;00m,\n\u001b[1;32m    324\u001b[0m               return_counts\u001b[38;5;241m=\u001b[39m\u001b[38;5;28;01mFalse\u001b[39;00m, \u001b[38;5;241m*\u001b[39m, equal_nan\u001b[38;5;241m=\u001b[39m\u001b[38;5;28;01mTrue\u001b[39;00m):\n\u001b[1;32m    325\u001b[0m \u001b[38;5;250m    \u001b[39m\u001b[38;5;124;03m\"\"\"\u001b[39;00m\n\u001b[1;32m    326\u001b[0m \u001b[38;5;124;03m    Find the unique elements of an array, ignoring shape.\u001b[39;00m\n\u001b[1;32m    327\u001b[0m \u001b[38;5;124;03m    \"\"\"\u001b[39;00m\n\u001b[0;32m--> 328\u001b[0m     ar \u001b[38;5;241m=\u001b[39m np\u001b[38;5;241m.\u001b[39masanyarray(ar)\u001b[38;5;241m.\u001b[39mflatten()\n\u001b[1;32m    330\u001b[0m     optional_indices \u001b[38;5;241m=\u001b[39m return_index \u001b[38;5;129;01mor\u001b[39;00m return_inverse\n\u001b[1;32m    332\u001b[0m     \u001b[38;5;28;01mif\u001b[39;00m optional_indices:\n",
      "\u001b[0;31mKeyboardInterrupt\u001b[0m: "
     ]
    }
   ],
   "source": [
    "\n",
    "threshold_list = np.linspace(1e-200,1e-199, 100)\n",
    "for threshold in threshold_list:\n",
    "    mask_nii = nib.load('/scratch/gpfs/rk1593/rt_mindEye/masking_operation/nsdgeneral_transformed.nii.gz')\n",
    "    mask_np = mask_nii.get_fdata()\n",
    "    mask_np[np.where(mask_np < threshold)] = 0 \n",
    "    mask_np[np.where(mask_np >= threshold)] = 1\n",
    "    print(np.unique(mask_np, return_counts = True))\n",
    "    if np.unique(mask_np, return_counts = True)[1][1] == 15724:\n",
    "        print(\"yes!\", threshold)"
   ]
  },
  {
   "cell_type": "code",
   "execution_count": null,
   "id": "4be28ac2",
   "metadata": {},
   "outputs": [],
   "source": []
  }
 ],
 "metadata": {
  "kernelspec": {
   "display_name": "rt_mindEye2 [~/.conda/envs/rt_mindEye2/]",
   "language": "python",
   "name": "conda_rt_mindeye2"
  },
  "language_info": {
   "codemirror_mode": {
    "name": "ipython",
    "version": 3
   },
   "file_extension": ".py",
   "mimetype": "text/x-python",
   "name": "python",
   "nbconvert_exporter": "python",
   "pygments_lexer": "ipython3",
   "version": "3.11.7"
  }
 },
 "nbformat": 4,
 "nbformat_minor": 5
}
