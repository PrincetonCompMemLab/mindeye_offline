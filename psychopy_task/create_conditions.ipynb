{
 "cells": [
  {
   "cell_type": "code",
   "execution_count": 548,
   "id": "7d5f265e-407a-40bd-92fb-a652091fd7ea",
   "metadata": {
    "tags": []
   },
   "outputs": [],
   "source": [
    "import os\n",
    "import shutil\n",
    "import sys\n",
    "import json\n",
    "import argparse\n",
    "import numpy as np\n",
    "import math\n",
    "from einops import rearrange\n",
    "import time\n",
    "import random\n",
    "import string\n",
    "from tqdm import tqdm\n",
    "import re\n",
    "import matplotlib.pyplot as plt\n",
    "import torch\n",
    "import torch.nn as nn\n",
    "from torchvision import transforms\n",
    "import imageio\n",
    "import pandas as pd\n",
    "import glob"
   ]
  },
  {
   "cell_type": "code",
   "execution_count": 554,
   "id": "b15fb310-1bc1-44c1-9e40-0acb58381dde",
   "metadata": {
    "tags": []
   },
   "outputs": [
    {
     "name": "stdout",
     "output_type": "stream",
     "text": [
      "p_id 1\n",
      "sess_num 3\n",
      "seeded with rng seed 13\n"
     ]
    }
   ],
   "source": [
    "def get_images(prefix, folder_path=\"all_stimuli/\"):\n",
    "    search_pattern = os.path.join(folder_path, prefix)\n",
    "    image_files = glob.glob(search_pattern)\n",
    "    return image_files\n",
    "\n",
    "def seed_everything(seed=0, cudnn_deterministic=True):\n",
    "    random.seed(seed)\n",
    "    os.environ['PYTHONHASHSEED'] = str(seed)\n",
    "    np.random.seed(seed)\n",
    "    torch.manual_seed(seed)\n",
    "    torch.cuda.manual_seed(seed)\n",
    "    torch.cuda.manual_seed_all(seed)\n",
    "    \n",
    "p_id = 1 # participant ID\n",
    "print(\"p_id\", p_id)\n",
    "sess_num = 3\n",
    "print(\"sess_num\", sess_num)\n",
    "    \n",
    "seed_everything(int(f\"{p_id}{sess_num}\"))\n",
    "print(f\"seeded with rng seed {p_id}{sess_num}\")"
   ]
  },
  {
   "cell_type": "code",
   "execution_count": 555,
   "id": "fc8bcfac-2239-4b91-84c0-0bac3e13db0c",
   "metadata": {
    "tags": []
   },
   "outputs": [],
   "source": [
    "if sess_num == 2:\n",
    "    all_images = [\n",
    "        get_images(\"MST_pairs1/*\"),\n",
    "        get_images(\"MST_pairs1/*\"),\n",
    "        get_images(\"MST_pairs1/*\"),\n",
    "        get_images(\"special515/*\")[:100],\n",
    "        get_images(\"special515/*\")[:100],\n",
    "        get_images(\"special515/*\")[:100],\n",
    "        get_images(\"special515/*\")[200:515],\n",
    "        get_images(\"shared1000_notspecial/*\")[:85],\n",
    "        get_images(\"closest_pairs1/*\"),\n",
    "        get_images(\"unchosen_nsd_1000_images/*\")[:83],\n",
    "    ]\n",
    "elif sess_num == 3:\n",
    "    all_images = [\n",
    "        get_images(\"MST_pairs2/*\"),\n",
    "        get_images(\"MST_pairs2/*\"),\n",
    "        get_images(\"MST_pairs2/*\"),\n",
    "        get_images(\"special515/*\")[100:200],\n",
    "        get_images(\"special515/*\")[100:200],\n",
    "        get_images(\"special515/*\")[100:200],\n",
    "        get_images(\"shared1000_notspecial/*\")[85:485],\n",
    "        get_images(\"closest_pairs2/*\"),\n",
    "        get_images(\"unchosen_nsd_1000_images/*\")[83:83+83],\n",
    "    ]"
   ]
  },
  {
   "cell_type": "code",
   "execution_count": 556,
   "id": "d77fa72f-9817-452d-bbe0-52451fbf554c",
   "metadata": {
    "tags": []
   },
   "outputs": [
    {
     "name": "stdout",
     "output_type": "stream",
     "text": [
      "1008\n"
     ]
    },
    {
     "data": {
      "text/plain": [
       "array(['all_stimuli/special515/special_40909.jpg',\n",
       "       'all_stimuli/closest_pairs2/set_3_closest_to_pair_37_image_cocoid_45923.png',\n",
       "       'all_stimuli/special515/special_71232.jpg',\n",
       "       'all_stimuli/special515/special_3856.jpg',\n",
       "       'all_stimuli/special515/special_6444.jpg',\n",
       "       'all_stimuli/closest_pairs2/set_3_closest_to_pair_27_image_cocoid_44058.png',\n",
       "       'all_stimuli/special515/special_65872.jpg',\n",
       "       'all_stimuli/closest_pairs2/set_1_closest_to_pair_25_image_cocoid_58252.png',\n",
       "       'all_stimuli/MST_pairs2/pair_27_nsd_505_2_cocoid_31968.png',\n",
       "       'all_stimuli/special515/special_3682.jpg'], dtype='<U74')"
      ]
     },
     "execution_count": 556,
     "metadata": {},
     "output_type": "execute_result"
    }
   ],
   "source": [
    "# flatten\n",
    "all_images_flattened = [item for sublist in all_images for item in sublist]\n",
    "print(len(all_images_flattened))\n",
    "\n",
    "# prevent back-to-back repeats\n",
    "while True:\n",
    "    all_images_shuffled = np.random.permutation(all_images_flattened)\n",
    "    if all(all_images_shuffled[i] != all_images_shuffled[i + 1] for i in range(len(all_images_shuffled) - 1)):\n",
    "        break\n",
    "\n",
    "all_images_shuffled[:10]"
   ]
  },
  {
   "cell_type": "code",
   "execution_count": 557,
   "id": "417decf8-459e-4032-b84b-f3afb1d04b22",
   "metadata": {
    "tags": []
   },
   "outputs": [
    {
     "name": "stdout",
     "output_type": "stream",
     "text": [
      "num_runs_total 16\n",
      "trials_per_run 70\n",
      "blanks_per_run 7\n",
      "\n",
      "total_trials 1120\n",
      "total_trials_no_blanks 1008\n",
      "\n",
      "total_trials_per_run 70.0\n",
      "total_trials_no_blanks_per_run 63.0\n",
      "\n",
      "seconds_per_run 280.0\n"
     ]
    },
    {
     "data": {
      "text/plain": [
       "[[9, 21, 31, 45, 56, 68, 69],\n",
       " [9, 21, 31, 45, 56, 68, 69],\n",
       " [9, 21, 31, 45, 56, 68, 69],\n",
       " [9, 21, 31, 45, 56, 68, 69],\n",
       " [9, 21, 31, 45, 56, 68, 69],\n",
       " [9, 21, 31, 45, 56, 68, 69],\n",
       " [9, 21, 31, 45, 56, 68, 69],\n",
       " [9, 21, 31, 45, 56, 68, 69],\n",
       " [9, 21, 31, 45, 56, 68, 69],\n",
       " [9, 21, 31, 45, 56, 68, 69],\n",
       " [9, 21, 31, 45, 56, 68, 69],\n",
       " [9, 21, 31, 45, 56, 68, 69],\n",
       " [9, 21, 31, 45, 56, 68, 69],\n",
       " [9, 21, 31, 45, 56, 68, 69],\n",
       " [9, 21, 31, 45, 56, 68, 69],\n",
       " [9, 21, 31, 45, 56, 68, 69]]"
      ]
     },
     "execution_count": 557,
     "metadata": {},
     "output_type": "execute_result"
    }
   ],
   "source": [
    "num_runs_total = 16\n",
    "print(\"num_runs_total\", num_runs_total)\n",
    "trials_per_run = 70\n",
    "print(\"trials_per_run\", trials_per_run)\n",
    "blanks_per_run = 7\n",
    "print(\"blanks_per_run\", blanks_per_run)\n",
    "\n",
    "total_trials = (trials_per_run * num_runs_total)\n",
    "print(\"\\ntotal_trials\", total_trials)\n",
    "print(\"total_trials_no_blanks\", total_trials - (blanks_per_run * num_runs_total))\n",
    "\n",
    "print(\"\\ntotal_trials_per_run\", total_trials / num_runs_total)\n",
    "print(\"total_trials_no_blanks_per_run\", (total_trials - (blanks_per_run * num_runs_total))/ num_runs_total)\n",
    "\n",
    "print(\"\\nseconds_per_run\", (total_trials / num_runs_total) * 4)\n",
    "# there are 2 blanks at end of every run instead of adding a novel end-of-run blank period\n",
    "\n",
    "assert len(all_images_shuffled) == ((trials_per_run - blanks_per_run) * num_runs_total)\n",
    "\n",
    "# trials_per_run = 4\n",
    "# blanks_per_run = 2\n",
    "# all_images_shuffled = all_images_shuffled[:32]\n",
    "# run_to_blanks = [[2,3] for r in range(num_runs_total)]\n",
    "\n",
    "run_to_blanks = [[9, 21, 31, 45, 56, 68, 69] for r in range(num_runs_total)]\n",
    "run_to_blanks"
   ]
  },
  {
   "cell_type": "code",
   "execution_count": 558,
   "id": "14abfa8c-accf-41ac-b4ec-dd4e45f5522b",
   "metadata": {
    "tags": []
   },
   "outputs": [
    {
     "name": "stdout",
     "output_type": "stream",
     "text": [
      "num_repeats 3\n",
      "num_repeats 9\n",
      "num_repeats 17\n",
      "num_repeats 30\n",
      "num_repeats 48\n",
      "num_repeats 59\n",
      "num_repeats 76\n",
      "num_repeats 101\n",
      "num_repeats 122\n",
      "num_repeats 143\n",
      "num_repeats 166\n",
      "num_repeats 186\n",
      "num_repeats 217\n",
      "num_repeats 240\n",
      "num_repeats 272\n",
      "num_repeats 300\n"
     ]
    }
   ],
   "source": [
    "participant_path = \"conditions_files/participant\" + str(p_id)\n",
    "os.makedirs(\"conditions_files\",exist_ok=True)\n",
    "\n",
    "num_repeats = 0\n",
    "image_index = 0\n",
    "current_image_list_cumulative = []\n",
    "for run_num in range(num_runs_total):\n",
    "    current_image_list = []\n",
    "    is_repeat_list = []\n",
    "    run_num_list = []\n",
    "    is_new_run_list = []\n",
    "    is_blank_trial_list = []\n",
    "    trial_index_list = []\n",
    "    all_blanks_list_list = []\n",
    "    is_not_last_trial_list = []\n",
    "    sess_num_list = []\n",
    "\n",
    "    blank_trial_indices = run_to_blanks[run_num]\n",
    "    for trial_index in range(trials_per_run):\n",
    "        run_num_list.append(run_num)\n",
    "        sess_num_list.append(sess_num)\n",
    "        all_blanks_list_list.append(blank_trial_indices)\n",
    "        trial_index_list.append(trial_index)\n",
    "\n",
    "        if trial_index == trials_per_run-1:\n",
    "            is_not_last_trial_list.append(0)\n",
    "        else:\n",
    "            is_not_last_trial_list.append(1)\n",
    "\n",
    "        if trial_index == (trials_per_run - 1) and run_num != (num_runs_total - 1):\n",
    "            is_new_run_list.append(1)\n",
    "        else:\n",
    "            is_new_run_list.append(0)\n",
    "\n",
    "        if trial_index in blank_trial_indices:\n",
    "            current_image_list.append(\"blank.jpg\")\n",
    "            previous_image = \"blank\"\n",
    "            is_blank_trial_list.append(1)\n",
    "            is_repeat_list.append(0)\n",
    "        else:\n",
    "            image_path = all_images_shuffled[image_index]\n",
    "            if image_path in current_image_list_cumulative:\n",
    "                is_repeat_list.append(1)\n",
    "                num_repeats += 1\n",
    "            else:\n",
    "                is_repeat_list.append(0)\n",
    "            current_image_list.append(image_path)\n",
    "            current_image_list_cumulative.append(image_path)\n",
    "            is_blank_trial_list.append(0)\n",
    "            previous_image = image_path.split(\"__\")[-1].split(\".jpg\")[0].replace(\"_\",\"\\n\")\n",
    "\n",
    "            image_index += 1\n",
    "            \n",
    "    # output study and test\n",
    "    output_dict = {\"current_image\": current_image_list,\n",
    "                   \"is_repeat\": is_repeat_list,\n",
    "                   \"trial_index\": trial_index_list,\n",
    "                   \"is_blank_trial\":is_blank_trial_list,\n",
    "                   \"is_new_run\": is_new_run_list,\n",
    "                   \"run_num\": run_num_list,\n",
    "                   \"sess_num\": sess_num_list,\n",
    "                   \"is_not_last_trial\": is_not_last_trial_list,\n",
    "                   \"all_blanks_list\": all_blanks_list_list}\n",
    "    output_df = pd.DataFrame(output_dict)\n",
    "    study_test_file_path = participant_path + \"_run\" + str(run_num) + \"_sess\" + str(sess_num) + \".csv\"\n",
    "    output_df.to_csv(study_test_file_path, index = False)\n",
    "    \n",
    "    print(\"num_repeats\", num_repeats)"
   ]
  },
  {
   "cell_type": "markdown",
   "id": "31195a80-da58-477d-9297-eea043dc4549",
   "metadata": {
    "tags": []
   },
   "source": [
    "# special512 conversion"
   ]
  },
  {
   "cell_type": "code",
   "execution_count": null,
   "id": "dbba7941-8360-4a12-b0be-d2c5b0efac73",
   "metadata": {},
   "outputs": [],
   "source": [
    "err"
   ]
  },
  {
   "cell_type": "code",
   "execution_count": 545,
   "id": "453501a5-b6a8-4634-ab0e-c7f552414bd3",
   "metadata": {
    "tags": []
   },
   "outputs": [],
   "source": [
    "# import os\n",
    "# import re\n",
    "\n",
    "# # Define the folder path\n",
    "# folder_path = 'all_stimuli/closest_pairs1'\n",
    "\n",
    "# # Define the regex pattern to match filenames with odd numbers\n",
    "# pattern = re.compile(r'pair_(\\d+)_image')\n",
    "\n",
    "# # Loop through all files in the folder\n",
    "# for filename in os.listdir(folder_path):\n",
    "#     match = pattern.search(filename)\n",
    "#     if match:\n",
    "#         number = int(match.group(1))\n",
    "#         if number % 2 != 0:  # Check if the number is odd\n",
    "#             file_path = os.path.join(folder_path, filename)\n",
    "#             os.remove(file_path)\n",
    "#             print(f\"Deleted: {file_path}\")"
   ]
  },
  {
   "cell_type": "code",
   "execution_count": 547,
   "id": "67710daa-6f0f-4a50-ab77-e36cf4cba06f",
   "metadata": {
    "tags": []
   },
   "outputs": [],
   "source": [
    "# import os\n",
    "# import re\n",
    "\n",
    "# # Define the folder path\n",
    "# folder_path = 'all_stimuli/closest_pairs2'\n",
    "\n",
    "# # Define the regex pattern to match filenames with numbers\n",
    "# pattern = re.compile(r'pair_(\\d+)_image')\n",
    "\n",
    "# # Loop through all files in the folder\n",
    "# for filename in os.listdir(folder_path):\n",
    "#     match = pattern.search(filename)\n",
    "#     if match:\n",
    "#         number = int(match.group(1))\n",
    "#         if number % 2 == 0:  # Check if the number is even\n",
    "#             file_path = os.path.join(folder_path, filename)\n",
    "#             os.remove(file_path)\n",
    "#             print(f\"Deleted: {file_path}\")"
   ]
  },
  {
   "cell_type": "code",
   "execution_count": 536,
   "id": "616cd97e-1d4a-46b9-86ac-c4dd2c6c9224",
   "metadata": {
    "tags": []
   },
   "outputs": [],
   "source": [
    "nsd_stim = pd.read_csv(\"all_stimuli/nsd_stim_info_merged.csv\")"
   ]
  },
  {
   "cell_type": "code",
   "execution_count": 537,
   "id": "1f918c0d-8563-45ac-932d-9d1faaeb635e",
   "metadata": {
    "tags": []
   },
   "outputs": [],
   "source": [
    "cocoids = nsd_stim['cocoId'].values\n",
    "nsdids = nsd_stim['nsdId'].values # zero-index\n",
    "shared1000 = nsd_stim['shared1000'].values"
   ]
  },
  {
   "cell_type": "code",
   "execution_count": 284,
   "id": "3641a5c5-4f9d-4fe9-a898-72bd22c7d994",
   "metadata": {
    "tags": []
   },
   "outputs": [
    {
     "data": {
      "text/plain": [
       "(array([ 2950,  2990,  3049,  3077,  3146,  3157,  3164,  3171,  3181,\n",
       "         3386,  3434,  3449,  3489,  3626,  3682,  3687,  3729,  3809,\n",
       "         3842,  3847,  3856,  3913,  3951,  4051,  4058,  4129,  4156,\n",
       "         4249,  4325,  4423,  4436,  4612,  4667,  4690,  4768,  4786,\n",
       "         4835,  4869,  4892,  4930,  5034,  5106,  5204,  5285,  5301,\n",
       "         5338,  5427,  5459,  5502,  5542,  5574,  5583,  5602,  5714,\n",
       "         5878,  5890,  6132,  6199,  6222,  6431,  6444,  6489,  6514,\n",
       "         6521,  6524,  6558,  6640,  6713,  6801,  7007,  7039,  7120,\n",
       "         7207,  7336,  7366,  7409,  7418,  7480,  7654,  7659,  7840,\n",
       "         7859,  7944,  7948,  7954,  8006,  8109,  8204,  8225,  8262,\n",
       "         8274,  8318,  8387,  8394,  8415,  8435,  8465,  8509,  8631,\n",
       "         8646,  8807,  8843,  8925,  8933,  9027,  9048,  9147,  9230,\n",
       "         9434,  9462,  9680,  9722,  9804,  9847,  9865,  9917,  9978,\n",
       "        10006, 10046, 10064, 10105, 10107, 10244, 10393, 10471, 10507,\n",
       "        10586, 10600, 10610, 10907, 11159, 11333, 11487, 11521, 11566,\n",
       "        11617, 11635, 11689, 11725, 11796, 11827, 11837, 11844, 11932,\n",
       "        11942, 11952, 12065, 12075, 12214, 12308, 12487, 12495, 12634,\n",
       "        12685, 12796, 12798, 12922, 12937, 13138, 13230, 13312, 13314,\n",
       "        13613, 13653, 13662, 13720, 13846, 14110, 14121, 14165, 14179,\n",
       "        14443, 14528, 14567, 14594, 14610, 14644, 14793, 14808, 14820,\n",
       "        14898, 14931, 15003, 15025, 15128, 15364, 15492, 15506, 15793,\n",
       "        15819, 15939, 16063, 16252, 16344, 16421, 16466, 16616, 16635,\n",
       "        16655, 16702, 16723, 16823, 16841, 16865, 16868, 16917, 17048,\n",
       "        17230, 17238, 17369, 17374, 17450, 17463, 17485, 17549, 17595,\n",
       "        17776, 17794, 17934, 17942, 18268, 18434, 18483, 18505, 18535,\n",
       "        18543, 18690, 18796, 19074, 19181, 19199, 19200, 19292, 19436,\n",
       "        19573, 19642, 19672, 19690, 19933, 20054, 20064, 20080, 20206,\n",
       "        20223, 20265, 20307, 20442, 20633, 20650, 20702, 20738, 20777,\n",
       "        20820, 21108, 21192, 21194, 21197, 21218, 21253, 21279, 21318,\n",
       "        21508, 21526, 21553, 21601, 21703, 21950, 21989, 22138, 22143,\n",
       "        22155, 22263, 22387, 22495, 22505, 22515, 22523, 22530, 22585,\n",
       "        22587, 22772, 22782, 22794, 22809, 22845, 22873, 22879, 22886,\n",
       "        22957, 22967, 22993, 23036, 23241, 23492, 23715, 23729, 23871,\n",
       "        23876, 23883, 23993, 24202, 24214, 24264, 24317, 24480, 24517,\n",
       "        24530, 24560, 24638, 24640, 24649, 24739, 24740, 24787, 24846,\n",
       "        25059, 25091, 25111, 25205, 25250, 25268, 25284, 25287, 25318,\n",
       "        25319, 25371, 25454, 25570, 25578, 25581, 25588, 25602, 25693,\n",
       "        25702, 25711, 25741, 25746, 25881, 25906, 25959, 26119, 26127,\n",
       "        26163, 26243, 26292, 26307, 26351, 26372, 26435, 26458, 26598,\n",
       "        26720, 26780, 26895, 26909, 26971, 26990, 27242, 27275, 27287,\n",
       "        27326, 27435, 27568, 27580, 27830, 27878, 27972, 28024, 28068,\n",
       "        28096, 28159, 28189, 28286, 28303, 28319, 28325, 28341, 28349,\n",
       "        28418, 28487, 28524, 28595, 28689, 28745, 28751, 28755, 28788,\n",
       "        28898, 28963, 29010, 29021, 29381, 29568, 29660, 29663, 29680,\n",
       "        29711, 29837, 29886, 29919, 29980, 30081, 30373, 30395, 30407,\n",
       "        30430, 30563, 30601, 30632, 30672, 30674, 30847, 30856, 30887,\n",
       "        30922, 30935, 30954, 31028, 31049, 31064, 31123, 31233, 31349,\n",
       "        31446, 31659, 31747, 31782, 31801, 31837, 31936, 31964, 32053,\n",
       "        32232, 32303, 32307, 32625, 32643, 32716, 32771, 32772, 32857,\n",
       "        32891, 32910, 33131, 33171, 33189, 33245, 33289, 33521, 33543,\n",
       "        33752, 33813, 33906, 34068, 34080, 34089, 34126, 34186, 34238,\n",
       "        34418, 34603, 34751, 34829, 34845, 34850, 34874, 34975, 35094,\n",
       "        35129, 35743, 35752, 35790, 35798, 35986, 36067, 36258, 36476,\n",
       "        36569, 36576, 36623, 36629, 36682, 36731, 36759, 36910, 36945,\n",
       "        36974, 36978, 37059, 37221, 37224, 37436, 37494, 37608, 37736,\n",
       "        37801, 37927, 38022, 38025, 38060, 38246, 38278, 38297, 38310,\n",
       "        38358, 38483, 38486, 38494, 38641, 38794, 38817, 38829, 38853,\n",
       "        38978, 39047, 39058, 39095, 39289, 39298, 39369, 39402, 39509,\n",
       "        39547, 39553, 39841, 39997, 40153, 40235, 40423, 40548, 40575,\n",
       "        40721, 40770, 40840, 40846, 40909, 40920, 40924, 40935, 40979,\n",
       "        41056, 41097, 41116, 41137, 41162, 41482, 41566, 41574, 41623,\n",
       "        41653, 41710, 41778, 41814, 41927, 41934, 42007, 42126, 42166,\n",
       "        42171, 42214, 42224, 42238, 42299, 42473, 42563, 42642, 42648,\n",
       "        42697, 42781, 42851, 42912, 42946, 42980, 43107, 43156, 43157,\n",
       "        43159, 43164, 43224, 43250, 43288, 43428, 43429, 43445, 43465,\n",
       "        43500, 43619, 43675, 43689, 43746, 43818, 43820, 43852, 43950,\n",
       "        43984, 44052, 44097, 44107, 44138, 44144, 44184, 44324, 44339,\n",
       "        44369, 44412, 44705, 44720, 44729, 44736, 44844, 44971, 44980,\n",
       "        45129, 45213, 45356, 45595, 45632, 45746, 45750, 45837, 45843,\n",
       "        45945, 45981, 45982, 45999, 46002, 46036, 46101, 46136, 46150,\n",
       "        46160, 46274, 46321, 46372, 46380, 46460, 46462, 46480, 46523,\n",
       "        46642, 46661, 46806, 46835, 46861, 47033, 47070, 47099, 47200,\n",
       "        47290, 47293, 47321, 47408, 47598, 47600, 47614, 47656, 47687,\n",
       "        48157, 48260, 48374, 48379, 48393, 48422, 48508, 48530, 48617,\n",
       "        48618, 48622, 48679, 48681, 48802, 48832, 48839, 49076, 49152,\n",
       "        49156, 49234, 49466, 49480, 49622, 49731, 49923, 49944, 49955,\n",
       "        49957, 49969, 49979, 50026, 50114, 50170, 50500, 50653, 50734,\n",
       "        50755, 50811, 50882, 51051, 51052, 51062, 51077, 51148, 51171,\n",
       "        51185, 51521, 51745, 51788, 51843, 51907, 51928, 51965, 51983,\n",
       "        51988, 52070, 52216, 52302, 52328, 52375, 52394, 52527, 52554,\n",
       "        52596, 52598, 52652, 52892, 52931, 52990, 53052, 53070, 53152,\n",
       "        53155, 53157, 53270, 53370, 53489, 53511, 53570, 53727, 53728,\n",
       "        53773, 53858, 53881, 53891, 54078, 54147, 54257, 54361, 54389,\n",
       "        54643, 54683, 54698, 54743, 54812, 54824, 54913, 54959, 55005,\n",
       "        55107, 55163, 55405, 55408, 55526, 55649, 55669, 55678, 55680,\n",
       "        55857, 55933, 55968, 55969, 56042, 56066, 56126, 56154, 56269,\n",
       "        56290, 56314, 56418, 56454, 56471, 56670, 56681, 56695, 56723,\n",
       "        56751, 56782, 56784, 56850, 56867, 56911, 56948, 57046, 57060,\n",
       "        57435, 57443, 57478, 57542, 57553, 57648, 57650, 57681, 57822,\n",
       "        57838, 57906, 58096, 58144, 58164, 58187, 58404, 58668, 58681,\n",
       "        59023, 59039, 59046, 59079, 59091, 59194, 59284, 59419, 59420,\n",
       "        59585, 59595, 59631, 59699, 59817, 59994, 60094, 60119, 60186,\n",
       "        60251, 60305, 60456, 60505, 60519, 60553, 60725, 60834, 60845,\n",
       "        60867, 60978, 61122, 61133, 61177, 61216, 61510, 61513, 61677,\n",
       "        61738, 61748, 61752, 61797, 61801, 61809, 61873, 61972, 62006,\n",
       "        62015, 62209, 62228, 62275, 62302, 62365, 62479, 62544, 62561,\n",
       "        62683, 62748, 62960, 63081, 63182, 63345, 63449, 63746, 63781,\n",
       "        63825, 63922, 63931, 63944, 64004, 64096, 64295, 64483, 64498,\n",
       "        64615, 64621, 64687, 64771, 64867, 64880, 64893, 64979, 65010,\n",
       "        65069, 65148, 65187, 65232, 65253, 65267, 65376, 65414, 65445,\n",
       "        65639, 65654, 65686, 65769, 65799, 65821, 65872, 65920, 65943,\n",
       "        66004, 66214, 66216, 66278, 66330, 66342, 66421, 66464, 66479,\n",
       "        66489, 66580, 66643, 66773, 66836, 66946, 66976, 67045, 67113,\n",
       "        67168, 67204, 67237, 67252, 67295, 67363, 67742, 67802, 67829,\n",
       "        68023, 68168, 68278, 68311, 68339, 68418, 68471, 68741, 68814,\n",
       "        68842, 68858, 68897, 69007, 69025, 69030, 69130, 69214, 69240,\n",
       "        69442, 69502, 69614, 69616, 69785, 69813, 69831, 69839, 69854,\n",
       "        69918, 70038, 70075, 70095, 70193, 70232, 70335, 70360, 70368,\n",
       "        70427, 70505, 70585, 70589, 70671, 70758, 70764, 70947, 71025,\n",
       "        71186, 71229, 71232, 71241, 71410, 71450, 71753, 71894, 71928,\n",
       "        72015, 72080, 72170, 72209, 72257, 72312, 72510, 72605, 72719,\n",
       "        72948]),)"
      ]
     },
     "execution_count": 284,
     "metadata": {},
     "output_type": "execute_result"
    }
   ],
   "source": [
    "np.where(shared1000==True)"
   ]
  },
  {
   "cell_type": "code",
   "execution_count": 231,
   "id": "e4801208-e3bf-4a84-ba2b-662fb327ff69",
   "metadata": {
    "tags": []
   },
   "outputs": [
    {
     "name": "stdout",
     "output_type": "stream",
     "text": [
      "Renaming complete!\n"
     ]
    }
   ],
   "source": [
    "import os\n",
    "\n",
    "# Specify the directory containing the jpg files\n",
    "folder_path = 'all_stimuli/special515copy'\n",
    "\n",
    "# Get a list of all .jpg files in the directory\n",
    "jpg_files = [f for f in os.listdir(folder_path) if f.endswith('.jpg')]\n",
    "\n",
    "nsdids_515 = np.array([])\n",
    "\n",
    "# Loop through the files and rename them\n",
    "for index, filename in enumerate(jpg_files):\n",
    "    nsdid_ = np.where(cocoids==int(filename.split(\".\")[0]))[0].item()\n",
    "    \n",
    "    # Define the new filename\n",
    "    new_filename = f\"special_{nsdid_}.jpg\"\n",
    "    \n",
    "    # Construct the full file paths\n",
    "    old_file_path = os.path.join(folder_path, filename)\n",
    "    new_file_path = os.path.join(folder_path, new_filename)\n",
    "    \n",
    "    nsdids_515 = np.append(nsdids_515, nsdid_)\n",
    "    \n",
    "    # Rename the file\n",
    "    # os.rename(old_file_path, new_file_path)\n",
    "\n",
    "print(\"Renaming complete!\")\n",
    "nsdids_515 = nsdids_515.astype(np.int32)"
   ]
  },
  {
   "cell_type": "code",
   "execution_count": 346,
   "id": "f1dc37ac-13a8-4d8c-87dd-ab20e25d74c4",
   "metadata": {
    "tags": []
   },
   "outputs": [],
   "source": [
    "# [float(f.split(\"cocoid_\")[-1].split(\".\")[0]) for f in os.listdir(folder_path) if f.endswith('.png')]"
   ]
  },
  {
   "cell_type": "code",
   "execution_count": 368,
   "id": "64fda2a3-7ad5-4d57-8fe1-f595577d35ce",
   "metadata": {
    "tags": []
   },
   "outputs": [
    {
     "data": {
      "text/plain": [
       "(1000, 3, 224, 224)"
      ]
     },
     "execution_count": 368,
     "metadata": {},
     "output_type": "execute_result"
    }
   ],
   "source": [
    "shared1000images = images[np.where(shared1000)[0]]\n",
    "shared1000images.shape"
   ]
  },
  {
   "cell_type": "code",
   "execution_count": 376,
   "id": "bea0a070-4d9b-445d-9158-d3c2d7817b63",
   "metadata": {
    "tags": []
   },
   "outputs": [
    {
     "data": {
      "text/plain": [
       "1.0"
      ]
     },
     "execution_count": 376,
     "metadata": {},
     "output_type": "execute_result"
    }
   ],
   "source": [
    "shared1000images.max()"
   ]
  },
  {
   "cell_type": "code",
   "execution_count": 370,
   "id": "73e790f0-6dea-44dc-ad9a-2de7ed32abfb",
   "metadata": {
    "tags": []
   },
   "outputs": [],
   "source": [
    "sharednsdid = np.where(shared1000)[0]"
   ]
  },
  {
   "cell_type": "code",
   "execution_count": 389,
   "id": "bc914964-5120-40c5-9ff2-b5f58539f9c0",
   "metadata": {
    "tags": []
   },
   "outputs": [
    {
     "name": "stdout",
     "output_type": "stream",
     "text": [
      "485\n"
     ]
    }
   ],
   "source": [
    "from PIL import Image\n",
    "save_folder = 'all_stimuli/shared1000_notspecial'\n",
    "cnt = 0\n",
    "# Loop through the files in the directory\n",
    "for ii,id in enumerate(sharednsdid):\n",
    "    if ~np.any(id == nsdids_515):\n",
    "        cnt +=1\n",
    "        image_array = shared1000images[ii]\n",
    "        \n",
    "        # Transpose the array from (3, 224, 224) to (224, 224, 3) to match image format\n",
    "        image_array = image_array.transpose(1, 2, 0)\n",
    "\n",
    "        # Convert the float16 array to uint8 format for saving as PNG\n",
    "        image_array = (image_array * 255).astype(np.uint8)\n",
    "\n",
    "        # Convert the NumPy array to a PIL image\n",
    "        image = Image.fromarray(image_array)\n",
    "\n",
    "        # Save the image as a PNG file\n",
    "        image.save(os.path.join(save_folder, f'notspecial_{id}.png'))\n",
    "        \n",
    "print(cnt)"
   ]
  },
  {
   "cell_type": "code",
   "execution_count": 412,
   "id": "1c33f91a-c0b9-4d73-90a0-ff798b730a51",
   "metadata": {
    "tags": []
   },
   "outputs": [
    {
     "name": "stdout",
     "output_type": "stream",
     "text": [
      "shared_522_cocoid_10006.png\n",
      "shared_313_cocoid_10006.png\n",
      "shared_551_cocoid_10006.png\n",
      "1000\n",
      "631\n"
     ]
    }
   ],
   "source": [
    "folder_path = 'all_stimuli/shared_nsd_1000_images'\n",
    "ps = []\n",
    "for file in os.listdir(folder_path):\n",
    "    if file[-4:]!=\".png\" and file[-4:]!=\".jpg\" and file[-5:]!=\".jpeg\":\n",
    "        continue\n",
    "    else:\n",
    "        p = file.split(\"cocoid_\")[-1].split(\".png\")[0]\n",
    "        ps = np.append(ps, p)\n",
    "        if int(p) == 10006:\n",
    "            print(file)\n",
    "print(len(ps))\n",
    "print(len(np.unique(ps)))"
   ]
  },
  {
   "cell_type": "code",
   "execution_count": 403,
   "id": "8f246b85-57f0-4b98-a671-aa0f5ce47284",
   "metadata": {
    "tags": []
   },
   "outputs": [
    {
     "data": {
      "text/plain": [
       "array(['10006', '10046', '10064', '10107', '10244', '10471', '11159',\n",
       "       '11521', '11617', '11689', '11725', '11796', '11942', '11952',\n",
       "       '12308', '12796', '12798', '13138', '13312', '13314', '13613',\n",
       "       '14528', '14594', '14644', '14793', '14820', '15819', '15939',\n",
       "       '16252', '16344', '16702', '16723', '16823', '16917', '17238',\n",
       "       '17549', '18434', '18543', '19074', '19181', '19199', '19200',\n",
       "       '19292', '19933', '20080', '20442', '20633', '20650', '21192',\n",
       "       '21279', '21601', '22263', '22523', '22530', '22587', '22782',\n",
       "       '22879', '22967', '23036', '23715', '24202', '24517', '25111',\n",
       "       '25287', '25318', '25581', '26119', '26163', '26292', '26435',\n",
       "       '26598', '26720', '26990', '27242', '27326', '27435', '27580',\n",
       "       '27830', '28024', '28068', '28096', '28159', '28319', '28349',\n",
       "       '28524', '28595', '28751', '29381', '29886', '30081', '30373',\n",
       "       '30395', '30407', '30430', '30601', '30672', '3077', '30847',\n",
       "       '31028', '31233', '3146', '3157', '3171', '31747', '32053',\n",
       "       '32232', '32307', '32625', '33131', '33189', '33521', '33543',\n",
       "       '3386', '34068', '34089', '34238', '3449', '34829', '34850',\n",
       "       '3489', '35743', '35752', '35798', '3626', '36476', '36576',\n",
       "       '36623', '36731', '3682', '36910', '36945', '36974', '37059',\n",
       "       '37224', '37736', '38022', '3809', '38246', '38297', '38310',\n",
       "       '3847', '38641', '38817', '38829', '38978', '39289', '39402',\n",
       "       '3951', '39997', '40423', '40575', '4058', '40770', '40840',\n",
       "       '40846', '41097', '41116', '41566', '42224', '42299', '4249',\n",
       "       '42563', '42851', '43159', '43428', '43445', '43619', '43820',\n",
       "       '44052', '4423', '44720', '44980', '45595', '45632', '46002',\n",
       "       '46150', '46160', '46460', '4690', '47408', '47600', '4786',\n",
       "       '48157', '48260', '48422', '48622', '48679', '48839', '4930',\n",
       "       '49466', '49944', '49955', '50114', '50734', '50755', '50811',\n",
       "       '51077', '51171', '51745', '51965', '51983', '52527', '52554',\n",
       "       '5301', '53052', '53157', '53891', '54078', '54257', '54643',\n",
       "       '54959', '55408', '5542', '55649', '55678', '55933', '55968',\n",
       "       '5602', '56066', '56723', '56850', '56911', '57046', '57650',\n",
       "       '57838', '58144', '58404', '59023', '59046', '59194', '59284',\n",
       "       '59631', '60186', '60251', '60505', '60845', '61510', '61748',\n",
       "       '61873', '62015', '62228', '62561', '62960', '63931', '64295',\n",
       "       '6431', '6444', '64483', '64867', '65253', '65267', '65376',\n",
       "       '65445', '65920', '66004', '66580', '66836', '66976', '67204',\n",
       "       '67802', '67829', '68168', '68339', '68814', '68842', '69007',\n",
       "       '70075', '70095', '70232', '70335', '7039', '71229', '71241',\n",
       "       '71410', '71450', '71894', '7207', '72312', '72605', '7418',\n",
       "       '7840', '7859', '8006', '8109', '8415', '8435', '8807', '8843',\n",
       "       '9027', '9434', '9722'], dtype='<U32')"
      ]
     },
     "execution_count": 403,
     "metadata": {},
     "output_type": "execute_result"
    }
   ],
   "source": [
    "unique, counts = np.unique(ps, return_counts=True)\n",
    "duplicates = unique[counts > 1]\n",
    "duplicates"
   ]
  },
  {
   "cell_type": "code",
   "execution_count": 170,
   "id": "a9cd6e85-b386-4135-bc57-4d6b90c8e1f3",
   "metadata": {
    "tags": []
   },
   "outputs": [],
   "source": [
    "import h5py\n",
    "f = h5py.File('all_stimuli/coco_images_224_float16.hdf5', 'r')\n",
    "images = f['images']"
   ]
  },
  {
   "cell_type": "code",
   "execution_count": 273,
   "id": "6108eb66-569e-4cb7-96b6-79b151f18f85",
   "metadata": {
    "tags": []
   },
   "outputs": [
    {
     "data": {
      "image/png": "[encoded data removed]",
      "text/plain": [
       "<PIL.Image.Image image mode=RGB size=224x224>"
      ]
     },
     "execution_count": 273,
     "metadata": {},
     "output_type": "execute_result"
    }
   ],
   "source": [
    "transforms.ToPILImage()(torch.Tensor(images[28487]))"
   ]
  },
  {
   "cell_type": "code",
   "execution_count": 225,
   "id": "27e3ada6-1fdd-4be4-9cc6-96ccec74ecff",
   "metadata": {
    "tags": []
   },
   "outputs": [
    {
     "data": {
      "text/plain": [
       "0        False\n",
       "1        False\n",
       "2        False\n",
       "3        False\n",
       "4        False\n",
       "         ...  \n",
       "72995    False\n",
       "72996    False\n",
       "72997    False\n",
       "72998    False\n",
       "72999    False\n",
       "Name: shared1000, Length: 73000, dtype: bool"
      ]
     },
     "execution_count": 225,
     "metadata": {},
     "output_type": "execute_result"
    }
   ],
   "source": [
    "nsd_stim.shared1000"
   ]
  },
  {
   "cell_type": "code",
   "execution_count": null,
   "id": "038e67e1-2154-48e8-bc4a-dff71d640bb4",
   "metadata": {},
   "outputs": [],
   "source": []
  }
 ],
 "metadata": {
  "kernelspec": {
   "display_name": "pygers",
   "language": "python",
   "name": "pygers"
  },
  "language_info": {
   "codemirror_mode": {
    "name": "ipython",
    "version": 3
   },
   "file_extension": ".py",
   "mimetype": "text/x-python",
   "name": "python",
   "nbconvert_exporter": "python",
   "pygments_lexer": "ipython3",
   "version": "3.7.13"
  }
 },
 "nbformat": 4,
 "nbformat_minor": 5
}
